{
  "nbformat": 4,
  "nbformat_minor": 0,
  "metadata": {
    "kernelspec": {
      "display_name": "Python 3",
      "language": "python",
      "name": "python3"
    },
    "language_info": {
      "codemirror_mode": {
        "name": "ipython",
        "version": 3
      },
      "file_extension": ".py",
      "mimetype": "text/x-python",
      "name": "python",
      "nbconvert_exporter": "python",
      "pygments_lexer": "ipython3",
      "version": "3.7.6"
    },
    "colab": {
      "name": "Копия блокнота \"day_2_exercises.ipynb\"",
      "provenance": [],
      "include_colab_link": true
    }
  },
  "cells": [
    {
      "cell_type": "markdown",
      "metadata": {
        "id": "view-in-github",
        "colab_type": "text"
      },
      "source": [
        "<a href=\"https://colab.research.google.com/github/NikolasT1503/Python_ITeco/blob/master/Tulonov_NK_%22day_2_exercises_ipynb%22.ipynb\" target=\"_parent\"><img src=\"https://colab.research.google.com/assets/colab-badge.svg\" alt=\"Open In Colab\"/></a>"
      ]
    },
    {
      "cell_type": "markdown",
      "metadata": {
        "id": "yebBXRdTgZOJ",
        "colab_type": "text"
      },
      "source": [
        "# Введение в Python\n",
        "\n",
        "## Упражнения"
      ]
    },
    {
      "cell_type": "markdown",
      "metadata": {
        "id": "e9j9foEUgZOK",
        "colab_type": "text"
      },
      "source": [
        "## Списки (Lists)\n",
        "\n",
        "### Задача №11\n",
        "\n",
        "Создайте список [0, 0, 0] двумя разными путями"
      ]
    },
    {
      "cell_type": "code",
      "metadata": {
        "id": "cVwHLai6gZOL",
        "colab_type": "code",
        "colab": {}
      },
      "source": [
        "# Способ 1\n",
        "x = [0, 0, 0]"
      ],
      "execution_count": null,
      "outputs": []
    },
    {
      "cell_type": "code",
      "metadata": {
        "id": "lBxcQu0EgZOP",
        "colab_type": "code",
        "colab": {
          "base_uri": "https://localhost:8080/",
          "height": 34
        },
        "outputId": "5648e6b8-21a6-434a-a0eb-2a452a04216f"
      },
      "source": [
        "# Способ 2\n",
        "x = [c for c in [0,0,0]]\n",
        "print(x)"
      ],
      "execution_count": null,
      "outputs": [
        {
          "output_type": "stream",
          "text": [
            "[0, 0, 0]\n"
          ],
          "name": "stdout"
        }
      ]
    },
    {
      "cell_type": "markdown",
      "metadata": {
        "id": "rIKyBp-agZOS",
        "colab_type": "text"
      },
      "source": [
        "### Задача №12\n",
        "\n",
        "Переназначьте \"Java\" в этом вложенном списке на \"Python\" и выведите результат используя индексацию:"
      ]
    },
    {
      "cell_type": "code",
      "metadata": {
        "id": "Zrs2VYcygZOT",
        "colab_type": "code",
        "colab": {
          "base_uri": "https://localhost:8080/",
          "height": 34
        },
        "outputId": "c27d241b-3c4f-48a4-9769-4f5aa1519216"
      },
      "source": [
        "list = [1,2,[3,4,'Java']]\n",
        "# Решение #\n",
        "list[2][2] = \"Python\"\n",
        "print(list)"
      ],
      "execution_count": null,
      "outputs": [
        {
          "output_type": "stream",
          "text": [
            "[1, 2, [3, 4, 'Python']]\n"
          ],
          "name": "stdout"
        }
      ]
    },
    {
      "cell_type": "markdown",
      "metadata": {
        "id": "HLfoCEV8gZOW",
        "colab_type": "text"
      },
      "source": [
        "### Задача №13\n",
        "\n",
        "Отсортируйте приведённый ниже список"
      ]
    },
    {
      "cell_type": "code",
      "metadata": {
        "id": "bARy5cHRgZOW",
        "colab_type": "code",
        "colab": {
          "base_uri": "https://localhost:8080/",
          "height": 34
        },
        "outputId": "30daa70e-044c-4e52-94d1-6e113566f2af"
      },
      "source": [
        "list2 = [7,2,3,11,67,44,3,2,8,12]\n",
        "# Решение #\n",
        "list2.sort()\n",
        "print(list2)"
      ],
      "execution_count": null,
      "outputs": [
        {
          "output_type": "stream",
          "text": [
            "[2, 2, 3, 3, 7, 8, 11, 12, 44, 67]\n"
          ],
          "name": "stdout"
        }
      ]
    },
    {
      "cell_type": "markdown",
      "metadata": {
        "id": "dRDx488IgZOa",
        "colab_type": "text"
      },
      "source": [
        "## Словари (Dictionaries)\n",
        "### Задача №14\n",
        "\n",
        "По ключу \"user_name\" выведите значение из словаря"
      ]
    },
    {
      "cell_type": "code",
      "metadata": {
        "id": "yVUhLXi9gZOa",
        "colab_type": "code",
        "colab": {
          "base_uri": "https://localhost:8080/",
          "height": 34
        },
        "outputId": "6eee1cd1-5749-444c-afec-5961da586660"
      },
      "source": [
        "d = {'k1':'spam'}\n",
        "# Вывести 'spam' #\n",
        "print(d['k1'])"
      ],
      "execution_count": null,
      "outputs": [
        {
          "output_type": "stream",
          "text": [
            "spam\n"
          ],
          "name": "stdout"
        }
      ]
    },
    {
      "cell_type": "code",
      "metadata": {
        "id": "mb--z7uEgZOe",
        "colab_type": "code",
        "colab": {
          "base_uri": "https://localhost:8080/",
          "height": 34
        },
        "outputId": "4f6f5440-3c1b-4c4f-95de-46ee780bfccd"
      },
      "source": [
        "d = {'k1':{'k2':'spam'}}\n",
        "# Вывести 'spam' #\n",
        "print(d['k1']['k2'])"
      ],
      "execution_count": null,
      "outputs": [
        {
          "output_type": "stream",
          "text": [
            "spam\n"
          ],
          "name": "stdout"
        }
      ]
    },
    {
      "cell_type": "code",
      "metadata": {
        "id": "R3gSyNpVgZOh",
        "colab_type": "code",
        "colab": {
          "base_uri": "https://localhost:8080/",
          "height": 34
        },
        "outputId": "9ccdbc28-1628-480b-e4b8-e1e5f93ccb1c"
      },
      "source": [
        "d = {'k1':[{'k2':['eggs',['spam']]}]}\n",
        "# Вывести 'spam' #\n",
        "print(d['k1'][0]['k2'][1][0])"
      ],
      "execution_count": null,
      "outputs": [
        {
          "output_type": "stream",
          "text": [
            "spam\n"
          ],
          "name": "stdout"
        }
      ]
    },
    {
      "cell_type": "markdown",
      "metadata": {
        "id": "0UfQ32A5gZOk",
        "colab_type": "text"
      },
      "source": [
        "## Кортежи (tuple)\n",
        "\n",
        "Чем отличаются кортежи от списков\n",
        "\n",
        "Создайте пример кортежа"
      ]
    },
    {
      "cell_type": "code",
      "metadata": {
        "id": "Dinx2NTZgZOl",
        "colab_type": "code",
        "colab": {
          "base_uri": "https://localhost:8080/",
          "height": 34
        },
        "outputId": "115e2e2b-418a-42c8-e585-8fa2191af994"
      },
      "source": [
        "x = (1, 2, 3)\n",
        "print(type(x))"
      ],
      "execution_count": null,
      "outputs": [
        {
          "output_type": "stream",
          "text": [
            "<class 'tuple'>\n"
          ],
          "name": "stdout"
        }
      ]
    },
    {
      "cell_type": "markdown",
      "metadata": {
        "id": "yG1uTHMAgZOo",
        "colab_type": "text"
      },
      "source": [
        "## Множества (set)\n",
        "\n",
        "Чем отличаются множества от списков?\n",
        "множество содержит набор уникальных элементов, в отличие от списка, который может содержать повторяющиеся элементы\n",
        "Создайте пример множества"
      ]
    },
    {
      "cell_type": "code",
      "metadata": {
        "id": "axrPhKuXgZOo",
        "colab_type": "code",
        "colab": {
          "base_uri": "https://localhost:8080/",
          "height": 34
        },
        "outputId": "41e89eec-7115-4124-b7e1-c850321d95e3"
      },
      "source": [
        "x = set()\n",
        "x = {1,3,2,5}\n",
        "print(type(x))"
      ],
      "execution_count": null,
      "outputs": [
        {
          "output_type": "stream",
          "text": [
            "<class 'set'>\n"
          ],
          "name": "stdout"
        }
      ]
    },
    {
      "cell_type": "markdown",
      "metadata": {
        "id": "dRWPwdVlgZOr",
        "colab_type": "text"
      },
      "source": [
        "## Логические операторы (Bolean)\n",
        "\n",
        "### Задача №15\n",
        "Какой Bolean вывод из следующего сценария\n",
        "(сначало считаем в уме, потом проверям)"
      ]
    },
    {
      "cell_type": "code",
      "metadata": {
        "id": "SPksp1LPgZOs",
        "colab_type": "code",
        "colab": {}
      },
      "source": [
        "# two nested lists\n",
        "l1 = [2,11,[7,12]]\n",
        "l2 = [2,22,{'k1':5}]\n",
        "\n",
        "# True or False?\n",
        "l1[2][0] >= l2[2]['k1']\n",
        "True"
      ],
      "execution_count": null,
      "outputs": []
    }
  ]
}