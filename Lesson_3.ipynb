{
  "nbformat": 4,
  "nbformat_minor": 0,
  "metadata": {
    "colab": {
      "name": "Lesson_3.ipynb",
      "provenance": [],
      "collapsed_sections": [],
      "include_colab_link": true
    },
    "kernelspec": {
      "name": "python3",
      "display_name": "Python 3"
    }
  },
  "cells": [
    {
      "cell_type": "markdown",
      "metadata": {
        "id": "view-in-github",
        "colab_type": "text"
      },
      "source": [
        "<a href=\"https://colab.research.google.com/github/NikolasT1503/Python_ITeco/blob/master/Lesson_3.ipynb\" target=\"_parent\"><img src=\"https://colab.research.google.com/assets/colab-badge.svg\" alt=\"Open In Colab\"/></a>"
      ]
    },
    {
      "cell_type": "markdown",
      "metadata": {
        "id": "UUbeSuaHD2Kh",
        "colab_type": "text"
      },
      "source": [
        "# Основы Python\n",
        "\n",
        "## Циклы\n",
        "\n"
      ]
    },
    {
      "cell_type": "markdown",
      "metadata": {
        "id": "Z1zM2G37Hlo_",
        "colab_type": "text"
      },
      "source": [
        "- Цикл for в языке программирования Python предназначен для перебора элементов структур данных и некоторых других объектов.\n",
        "\n",
        "- Можно итерироваться через список, строку, значения словаря (если они итерируемы) ..."
      ]
    },
    {
      "cell_type": "code",
      "metadata": {
        "id": "2HpAzdXOHpKl",
        "colab_type": "code",
        "colab": {
          "base_uri": "https://localhost:8080/",
          "height": 119
        },
        "outputId": "ff17e33b-3ed2-4010-ed4d-9a6900e60f62"
      },
      "source": [
        "my_list = [1,2,3,4,5, \"Ops\"]\n",
        "\n",
        "for i in my_list:\n",
        "  print(i)"
      ],
      "execution_count": null,
      "outputs": [
        {
          "output_type": "stream",
          "text": [
            "1\n",
            "2\n",
            "3\n",
            "4\n",
            "5\n",
            "Ops\n"
          ],
          "name": "stdout"
        }
      ]
    },
    {
      "cell_type": "code",
      "metadata": {
        "id": "hsEA9nUrIeil",
        "colab_type": "code",
        "colab": {
          "base_uri": "https://localhost:8080/",
          "height": 119
        },
        "outputId": "2a32df62-bb51-4139-b90f-7f71cd05201e"
      },
      "source": [
        "# если поменять тут порядок программа сломается потому что она пойдёт дальше и сделает невозможное разделив строку на число\n",
        "for num in my_list:\n",
        "  if isinstance(num, int) and num % 2 == 0:\n",
        "    print(num)\n",
        "  else:\n",
        "    print(num, 'не число')"
      ],
      "execution_count": null,
      "outputs": [
        {
          "output_type": "stream",
          "text": [
            "1 не число\n",
            "2\n",
            "3 не число\n",
            "4\n",
            "5 не число\n",
            "Ops не число\n"
          ],
          "name": "stdout"
        }
      ]
    },
    {
      "cell_type": "code",
      "metadata": {
        "id": "4y49a-dLK421",
        "colab_type": "code",
        "colab": {
          "base_uri": "https://localhost:8080/",
          "height": 34
        },
        "outputId": "fc65d926-7b14-4303-e486-1d8ebd93a123"
      },
      "source": [
        "integers = [1,2,3,4,5,6,7]\n",
        "list_sum = 0\n",
        "\n",
        "for num in integers:\n",
        "  list_sum = list_sum + num\n",
        "\n",
        "print(list_sum)"
      ],
      "execution_count": null,
      "outputs": [
        {
          "output_type": "stream",
          "text": [
            "28\n"
          ],
          "name": "stdout"
        }
      ]
    },
    {
      "cell_type": "markdown",
      "metadata": {
        "id": "i65W74r-HjQD",
        "colab_type": "text"
      },
      "source": [
        "- While - один из самых универсальных циклов в Python, поэтому довольно медленный. Выполняет тело цикла до тех пор, пока условие цикла истинно.\n",
        "\n",
        "- Пока мой кот голодный – продолжай кормить моего кота."
      ]
    },
    {
      "cell_type": "code",
      "metadata": {
        "id": "QUawzwlq58ua",
        "colab_type": "code",
        "colab": {
          "base_uri": "https://localhost:8080/",
          "height": 119
        },
        "outputId": "088fbf4d-0213-4083-f8b2-8d797f3c5896"
      },
      "source": [
        "x = 0\n",
        "\n",
        "while x < 5:\n",
        "  print(f'текущее значение x: {x}')\n",
        "  x += 1\n",
        "  \n",
        "else:\n",
        "  print('x больше чем 5')"
      ],
      "execution_count": null,
      "outputs": [
        {
          "output_type": "stream",
          "text": [
            "текущее значение x: 0\n",
            "текущее значение x: 1\n",
            "текущее значение x: 2\n",
            "текущее значение x: 3\n",
            "текущее значение x: 4\n",
            "x больше чем 5\n"
          ],
          "name": "stdout"
        }
      ]
    },
    {
      "cell_type": "code",
      "metadata": {
        "id": "U_H7E39TMEBJ",
        "colab_type": "code",
        "colab": {
          "base_uri": "https://localhost:8080/",
          "height": 221
        },
        "outputId": "744786bc-5444-4231-a91f-aae522b37e7a"
      },
      "source": [
        "for letter in \"hello world!\":\n",
        "  print(letter)"
      ],
      "execution_count": null,
      "outputs": [
        {
          "output_type": "stream",
          "text": [
            "h\n",
            "e\n",
            "l\n",
            "l\n",
            "o\n",
            " \n",
            "w\n",
            "o\n",
            "r\n",
            "l\n",
            "d\n",
            "!\n"
          ],
          "name": "stdout"
        }
      ]
    },
    {
      "cell_type": "code",
      "metadata": {
        "id": "FoJ81MRSMSOb",
        "colab_type": "code",
        "colab": {
          "base_uri": "https://localhost:8080/",
          "height": 68
        },
        "outputId": "7ec0e30f-84bb-47f6-e8ce-307a14810a83"
      },
      "source": [
        "tup = (1,2,3)\n",
        "\n",
        "for i in tup:\n",
        "  print(i)"
      ],
      "execution_count": null,
      "outputs": [
        {
          "output_type": "stream",
          "text": [
            "1\n",
            "2\n",
            "3\n"
          ],
          "name": "stdout"
        }
      ]
    },
    {
      "cell_type": "code",
      "metadata": {
        "id": "oVV_FcC-MYOv",
        "colab_type": "code",
        "colab": {
          "base_uri": "https://localhost:8080/",
          "height": 119
        },
        "outputId": "e7634972-b016-49c6-d671-ed11646ae9f4"
      },
      "source": [
        "my_list = [(1,2), (3,4), (5,6)]\n",
        "\n",
        "for i in my_list:\n",
        "  print(i[0])\n",
        "\n",
        "for (a, b) in my_list:\n",
        "  print(a, b)"
      ],
      "execution_count": null,
      "outputs": [
        {
          "output_type": "stream",
          "text": [
            "1\n",
            "3\n",
            "5\n",
            "1 2\n",
            "3 4\n",
            "5 6\n"
          ],
          "name": "stdout"
        }
      ]
    },
    {
      "cell_type": "code",
      "metadata": {
        "id": "rFptZ7JcNGMn",
        "colab_type": "code",
        "colab": {
          "base_uri": "https://localhost:8080/",
          "height": 68
        },
        "outputId": "ba0f0b18-38ea-472d-c9c3-9bc9b5c77030"
      },
      "source": [
        "d = {'key':1, 'key2':2, 'key3':3}\n",
        "\n",
        "for i in d:\n",
        "  print(i)"
      ],
      "execution_count": null,
      "outputs": [
        {
          "output_type": "stream",
          "text": [
            "key\n",
            "key2\n",
            "key3\n"
          ],
          "name": "stdout"
        }
      ]
    },
    {
      "cell_type": "code",
      "metadata": {
        "id": "2CUVecXMNZGs",
        "colab_type": "code",
        "colab": {
          "base_uri": "https://localhost:8080/",
          "height": 68
        },
        "outputId": "653dfc1b-0867-4c3b-cbcc-eaf94925d23a"
      },
      "source": [
        "d = {'key':1, 'key2':2, 'key3':3}\n",
        "\n",
        "for a,b in d.items():\n",
        "  print(a, b)"
      ],
      "execution_count": null,
      "outputs": [
        {
          "output_type": "stream",
          "text": [
            "key 1\n",
            "key2 2\n",
            "key3 3\n"
          ],
          "name": "stdout"
        }
      ]
    },
    {
      "cell_type": "markdown",
      "metadata": {
        "id": "0vQERLQpDofL",
        "colab_type": "text"
      },
      "source": [
        "## break, continue, pass\n",
        "\n",
        "Мы можем использовать break, continue, pass инструкции (операторы) для добавления функциональности решая разные задачи. \n",
        "\n",
        "* break: break прерывает текущий цикл и продолжает выполнение следующих \n",
        "выражений.\n",
        "\n",
        "* continue: возвращает управление в начало цикла. \n",
        "\n",
        "* pass: не делает ничего."
      ]
    },
    {
      "cell_type": "code",
      "metadata": {
        "id": "jiIE_0MwDq6W",
        "colab_type": "code",
        "colab": {
          "base_uri": "https://localhost:8080/",
          "height": 129
        },
        "outputId": "ac4a87d8-d78b-448f-8701-c268003740aa"
      },
      "source": [
        "x = [1, 2, 3]\n",
        "\n",
        "for item in x:\n",
        "  # comment"
      ],
      "execution_count": null,
      "outputs": [
        {
          "output_type": "error",
          "ename": "SyntaxError",
          "evalue": "ignored",
          "traceback": [
            "\u001b[0;36m  File \u001b[0;32m\"<ipython-input-3-6b96dd5494a0>\"\u001b[0;36m, line \u001b[0;32m4\u001b[0m\n\u001b[0;31m    # comment\u001b[0m\n\u001b[0m             ^\u001b[0m\n\u001b[0;31mSyntaxError\u001b[0m\u001b[0;31m:\u001b[0m unexpected EOF while parsing\n"
          ]
        }
      ]
    },
    {
      "cell_type": "code",
      "metadata": {
        "id": "pTwiHdoXEL6S",
        "colab_type": "code",
        "colab": {
          "base_uri": "https://localhost:8080/",
          "height": 34
        },
        "outputId": "5752e8a5-5edf-44c8-bb87-afc0ed72d427"
      },
      "source": [
        "x = [1, 2, 3]\n",
        "\n",
        "for item in x:\n",
        "  pass\n",
        "print(\"конец скрипта\")"
      ],
      "execution_count": null,
      "outputs": [
        {
          "output_type": "stream",
          "text": [
            "конец скрипта\n"
          ],
          "name": "stdout"
        }
      ]
    },
    {
      "cell_type": "code",
      "metadata": {
        "id": "bgc1bNO6E75o",
        "colab_type": "code",
        "colab": {
          "base_uri": "https://localhost:8080/",
          "height": 102
        },
        "outputId": "f9db710a-6220-4f48-ff37-bf04c1ab620d"
      },
      "source": [
        "x = \"python\"\n",
        "\n",
        "for letter in x:\n",
        "  if letter == \"t\":\n",
        "    continue\n",
        "  print(letter)"
      ],
      "execution_count": null,
      "outputs": [
        {
          "output_type": "stream",
          "text": [
            "p\n",
            "y\n",
            "h\n",
            "o\n",
            "n\n"
          ],
          "name": "stdout"
        }
      ]
    },
    {
      "cell_type": "code",
      "metadata": {
        "id": "eY-BsxLkFSjj",
        "colab_type": "code",
        "colab": {
          "base_uri": "https://localhost:8080/",
          "height": 119
        },
        "outputId": "b6807b45-6fcb-43d9-da04-03c388a289f0"
      },
      "source": [
        "x = 0\n",
        "\n",
        "while x < 10:\n",
        "  print(x)\n",
        "  x += 1\n",
        "  if x > 5:\n",
        "    break"
      ],
      "execution_count": null,
      "outputs": [
        {
          "output_type": "stream",
          "text": [
            "0\n",
            "1\n",
            "2\n",
            "3\n",
            "4\n",
            "5\n"
          ],
          "name": "stdout"
        }
      ]
    },
    {
      "cell_type": "markdown",
      "metadata": {
        "id": "COWfLI2hqk2f",
        "colab_type": "text"
      },
      "source": [
        "## List Comprehension"
      ]
    },
    {
      "cell_type": "code",
      "metadata": {
        "id": "W0AZ7AqxF_Tj",
        "colab_type": "code",
        "colab": {}
      },
      "source": [
        "hello = \"hello\"\n",
        "my_list = []"
      ],
      "execution_count": null,
      "outputs": []
    },
    {
      "cell_type": "code",
      "metadata": {
        "id": "l_VsRV6Iq1jr",
        "colab_type": "code",
        "colab": {}
      },
      "source": [
        "for letter in hello:\n",
        "  my_list.append(letter)"
      ],
      "execution_count": null,
      "outputs": []
    },
    {
      "cell_type": "code",
      "metadata": {
        "id": "Tg8swIGhq60X",
        "colab_type": "code",
        "colab": {
          "base_uri": "https://localhost:8080/",
          "height": 34
        },
        "outputId": "b1c5e7c7-d114-4c6e-ebc9-6ddbc366e4ce"
      },
      "source": [
        "my_list"
      ],
      "execution_count": null,
      "outputs": [
        {
          "output_type": "execute_result",
          "data": {
            "text/plain": [
              "['h', 'e', 'l', 'l', 'o']"
            ]
          },
          "metadata": {
            "tags": []
          },
          "execution_count": 7
        }
      ]
    },
    {
      "cell_type": "code",
      "metadata": {
        "id": "zDVymGq3q7-4",
        "colab_type": "code",
        "colab": {
          "base_uri": "https://localhost:8080/",
          "height": 34
        },
        "outputId": "12879c6a-de49-49be-bfe1-19fdab0102af"
      },
      "source": [
        "[letter for letter in hello]"
      ],
      "execution_count": null,
      "outputs": [
        {
          "output_type": "execute_result",
          "data": {
            "text/plain": [
              "['h', 'e', 'l', 'l', 'o']"
            ]
          },
          "metadata": {
            "tags": []
          },
          "execution_count": 9
        }
      ]
    },
    {
      "cell_type": "code",
      "metadata": {
        "id": "W4DP5BUirOcx",
        "colab_type": "code",
        "colab": {
          "base_uri": "https://localhost:8080/",
          "height": 34
        },
        "outputId": "7f20d314-90f4-44a4-f8ca-8dc688237ea6"
      },
      "source": [
        "[x for x in range(3)]"
      ],
      "execution_count": null,
      "outputs": [
        {
          "output_type": "execute_result",
          "data": {
            "text/plain": [
              "[0, 1, 2]"
            ]
          },
          "metadata": {
            "tags": []
          },
          "execution_count": 12
        }
      ]
    },
    {
      "cell_type": "code",
      "metadata": {
        "id": "y1cKNHulrVw6",
        "colab_type": "code",
        "colab": {}
      },
      "source": [
        "super_list = [x for x in \"word\"]"
      ],
      "execution_count": null,
      "outputs": []
    },
    {
      "cell_type": "code",
      "metadata": {
        "id": "oRGvA3aFrdZw",
        "colab_type": "code",
        "colab": {
          "base_uri": "https://localhost:8080/",
          "height": 34
        },
        "outputId": "e8bcb664-2306-422a-c6f0-8e62882fb666"
      },
      "source": [
        "super_list"
      ],
      "execution_count": null,
      "outputs": [
        {
          "output_type": "execute_result",
          "data": {
            "text/plain": [
              "['w', 'o', 'r', 'd']"
            ]
          },
          "metadata": {
            "tags": []
          },
          "execution_count": 14
        }
      ]
    },
    {
      "cell_type": "code",
      "metadata": {
        "id": "wgFmrHcWrfUu",
        "colab_type": "code",
        "colab": {
          "base_uri": "https://localhost:8080/",
          "height": 34
        },
        "outputId": "5e711695-684c-4e9c-ac93-ea9af3b31770"
      },
      "source": [
        "[x for x in range(0, 10) if x%2 == 0]"
      ],
      "execution_count": null,
      "outputs": [
        {
          "output_type": "execute_result",
          "data": {
            "text/plain": [
              "[0, 2, 4, 6, 8]"
            ]
          },
          "metadata": {
            "tags": []
          },
          "execution_count": 15
        }
      ]
    },
    {
      "cell_type": "code",
      "metadata": {
        "id": "1MwvI9gAr3J5",
        "colab_type": "code",
        "colab": {
          "base_uri": "https://localhost:8080/",
          "height": 34
        },
        "outputId": "8af48958-25e4-4969-aa5c-f2fdbf9c8b76"
      },
      "source": [
        "[x**2 for x in range(0, 10) if x%2 == 0]"
      ],
      "execution_count": null,
      "outputs": [
        {
          "output_type": "execute_result",
          "data": {
            "text/plain": [
              "[0, 4, 16, 36, 64]"
            ]
          },
          "metadata": {
            "tags": []
          },
          "execution_count": 16
        }
      ]
    },
    {
      "cell_type": "code",
      "metadata": {
        "id": "0N7NrSCir8Qy",
        "colab_type": "code",
        "colab": {
          "base_uri": "https://localhost:8080/",
          "height": 34
        },
        "outputId": "64755b67-038e-4e2a-f584-5a7b0a636f7d"
      },
      "source": [
        "celcius = [0, 1, 2, 3, 4]\n",
        "\n",
        "fahrenheit = [ ( (9/5)*temp + 32 ) for temp in celcius ]\n",
        "\n",
        "fahrenheit"
      ],
      "execution_count": null,
      "outputs": [
        {
          "output_type": "execute_result",
          "data": {
            "text/plain": [
              "[32.0, 33.8, 35.6, 37.4, 39.2]"
            ]
          },
          "metadata": {
            "tags": []
          },
          "execution_count": 18
        }
      ]
    },
    {
      "cell_type": "code",
      "metadata": {
        "id": "pj239fwTsSX1",
        "colab_type": "code",
        "colab": {
          "base_uri": "https://localhost:8080/",
          "height": 34
        },
        "outputId": "add2932c-6507-4c67-b889-f75928f6cc99"
      },
      "source": [
        "result = [x if x%2==0 else 'ODD' for x in range(0, 11)]\n",
        "result"
      ],
      "execution_count": null,
      "outputs": [
        {
          "output_type": "execute_result",
          "data": {
            "text/plain": [
              "[0, 'ODD', 2, 'ODD', 4, 'ODD', 6, 'ODD', 8, 'ODD', 10]"
            ]
          },
          "metadata": {
            "tags": []
          },
          "execution_count": 20
        }
      ]
    },
    {
      "cell_type": "code",
      "metadata": {
        "id": "jOlc0yvRsn9U",
        "colab_type": "code",
        "colab": {
          "base_uri": "https://localhost:8080/",
          "height": 442
        },
        "outputId": "a3f94d9b-5b3b-4d68-8cba-fee4d2b2e21a"
      },
      "source": [
        "[x for x in \"HELLO\" for y in \"WORLD\"]"
      ],
      "execution_count": null,
      "outputs": [
        {
          "output_type": "execute_result",
          "data": {
            "text/plain": [
              "['H',\n",
              " 'H',\n",
              " 'H',\n",
              " 'H',\n",
              " 'H',\n",
              " 'E',\n",
              " 'E',\n",
              " 'E',\n",
              " 'E',\n",
              " 'E',\n",
              " 'L',\n",
              " 'L',\n",
              " 'L',\n",
              " 'L',\n",
              " 'L',\n",
              " 'L',\n",
              " 'L',\n",
              " 'L',\n",
              " 'L',\n",
              " 'L',\n",
              " 'O',\n",
              " 'O',\n",
              " 'O',\n",
              " 'O',\n",
              " 'O']"
            ]
          },
          "metadata": {
            "tags": []
          },
          "execution_count": 21
        }
      ]
    },
    {
      "cell_type": "code",
      "metadata": {
        "id": "sehoVGiBs8FO",
        "colab_type": "code",
        "colab": {
          "base_uri": "https://localhost:8080/",
          "height": 34
        },
        "outputId": "ee4f3ea1-7507-46d5-e085-a4b976e3880d"
      },
      "source": [
        "[x for x in [1,2,3] for y in [2,4,5]]"
      ],
      "execution_count": null,
      "outputs": [
        {
          "output_type": "execute_result",
          "data": {
            "text/plain": [
              "[1, 1, 1, 2, 2, 2, 3, 3, 3]"
            ]
          },
          "metadata": {
            "tags": []
          },
          "execution_count": 22
        }
      ]
    },
    {
      "cell_type": "code",
      "metadata": {
        "id": "42V8-PmAtGxA",
        "colab_type": "code",
        "colab": {
          "base_uri": "https://localhost:8080/",
          "height": 34
        },
        "outputId": "da8c45b3-7a3f-4d16-90ee-489b3b2a0740"
      },
      "source": [
        "[x+y for x in [1,2,3] for y in [2,4,5]]"
      ],
      "execution_count": null,
      "outputs": [
        {
          "output_type": "execute_result",
          "data": {
            "text/plain": [
              "[3, 5, 6, 4, 6, 7, 5, 7, 8]"
            ]
          },
          "metadata": {
            "tags": []
          },
          "execution_count": 23
        }
      ]
    },
    {
      "cell_type": "code",
      "metadata": {
        "id": "-pNsZXSotL0L",
        "colab_type": "code",
        "colab": {
          "base_uri": "https://localhost:8080/",
          "height": 34
        },
        "outputId": "e375c654-378b-49d4-c69b-3b48ad5c900d"
      },
      "source": [
        "d = {k:v for k, v in [(1,2), (3,4)]}\n",
        "d"
      ],
      "execution_count": null,
      "outputs": [
        {
          "output_type": "execute_result",
          "data": {
            "text/plain": [
              "{1: 2, 3: 4}"
            ]
          },
          "metadata": {
            "tags": []
          },
          "execution_count": 28
        }
      ]
    },
    {
      "cell_type": "code",
      "metadata": {
        "id": "2-2uvJtgtkg2",
        "colab_type": "code",
        "colab": {}
      },
      "source": [
        "d = {k:v for k, v in [(1,2), (3,4)]}\n",
        "d"
      ],
      "execution_count": null,
      "outputs": []
    },
    {
      "cell_type": "code",
      "metadata": {
        "id": "tQeWAgMLEyCx",
        "colab_type": "code",
        "colab": {}
      },
      "source": [
        "for i in range(100):\n",
        "    continue\n",
        "    if i % 2 == 0:\n",
        "        print(i)\n",
        "    else:\n",
        "        continue"
      ],
      "execution_count": null,
      "outputs": []
    }
  ]
}