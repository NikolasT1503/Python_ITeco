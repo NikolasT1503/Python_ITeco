{
  "nbformat": 4,
  "nbformat_minor": 0,
  "metadata": {
    "kernelspec": {
      "display_name": "Python 3",
      "language": "python",
      "name": "python3"
    },
    "language_info": {
      "codemirror_mode": {
        "name": "ipython",
        "version": 3
      },
      "file_extension": ".py",
      "mimetype": "text/x-python",
      "name": "python",
      "nbconvert_exporter": "python",
      "pygments_lexer": "ipython3",
      "version": "3.8.2"
    },
    "colab": {
      "name": "day_2_lesson.ipynb",
      "provenance": [],
      "collapsed_sections": [
        "pQDQ9zbC6QGo",
        "c2nseDxg6QHS",
        "1RC2iNPR6QHg",
        "pv5FaN836QII"
      ],
      "include_colab_link": true
    }
  },
  "cells": [
    {
      "cell_type": "markdown",
      "metadata": {
        "id": "view-in-github",
        "colab_type": "text"
      },
      "source": [
        "<a href=\"https://colab.research.google.com/github/NikolasT1503/Python_ITeco/blob/master/day_2_lesson.ipynb\" target=\"_parent\"><img src=\"https://colab.research.google.com/assets/colab-badge.svg\" alt=\"Open In Colab\"/></a>"
      ]
    },
    {
      "cell_type": "markdown",
      "metadata": {
        "id": "ljog5rrP6QDc",
        "colab_type": "text"
      },
      "source": [
        "# Основы Python\n",
        "## Базовые структуры данных"
      ]
    },
    {
      "cell_type": "markdown",
      "metadata": {
        "id": "y0QC-XYq6QDf",
        "colab_type": "text"
      },
      "source": [
        "* Целые числа\n",
        "* Строки\n",
        "* Переменные\n",
        "* Списки\n",
        "* Кортежи\n",
        "* Словари\n",
        "* Множества"
      ]
    },
    {
      "cell_type": "code",
      "metadata": {
        "id": "zhSh0alO6QDg",
        "colab_type": "code",
        "colab": {}
      },
      "source": [
        "# Decimal\n",
        "https://metanit.com/python/tutorial/6.4.php"
      ],
      "execution_count": null,
      "outputs": []
    },
    {
      "cell_type": "code",
      "metadata": {
        "id": "OwcDuEQb6QDm",
        "colab_type": "code",
        "colab": {},
        "outputId": "cf7435bc-c202-4808-8d47-374ee249fdfd"
      },
      "source": [
        "0.1 + 0.1 + 0.1"
      ],
      "execution_count": null,
      "outputs": [
        {
          "output_type": "execute_result",
          "data": {
            "text/plain": [
              "0.30000000000000004"
            ]
          },
          "metadata": {
            "tags": []
          },
          "execution_count": 92
        }
      ]
    },
    {
      "cell_type": "code",
      "metadata": {
        "id": "fAjz1w3Y6QDr",
        "colab_type": "code",
        "colab": {}
      },
      "source": [
        "num = 0.1 + 0.1 + 0.1"
      ],
      "execution_count": null,
      "outputs": []
    },
    {
      "cell_type": "code",
      "metadata": {
        "id": "Gu34_UwI6QDw",
        "colab_type": "code",
        "colab": {},
        "outputId": "6237f7c3-b294-45df-8542-9e6a5f06448a"
      },
      "source": [
        "round(num, 4)"
      ],
      "execution_count": null,
      "outputs": [
        {
          "output_type": "execute_result",
          "data": {
            "text/plain": [
              "0.323"
            ]
          },
          "metadata": {
            "tags": []
          },
          "execution_count": 119
        }
      ]
    },
    {
      "cell_type": "code",
      "metadata": {
        "id": "NmcQDpsM6QD1",
        "colab_type": "code",
        "colab": {}
      },
      "source": [
        "from decimal import Decimal"
      ],
      "execution_count": null,
      "outputs": []
    },
    {
      "cell_type": "code",
      "metadata": {
        "id": "up9BbyM_6QD6",
        "colab_type": "code",
        "colab": {}
      },
      "source": [
        "number = Decimal(\"0.1\")"
      ],
      "execution_count": null,
      "outputs": []
    },
    {
      "cell_type": "code",
      "metadata": {
        "id": "tGiEe-f_6QD-",
        "colab_type": "code",
        "colab": {}
      },
      "source": [
        "result = number + number + number"
      ],
      "execution_count": null,
      "outputs": []
    },
    {
      "cell_type": "code",
      "metadata": {
        "id": "QgwPtwbd6QEE",
        "colab_type": "code",
        "colab": {},
        "outputId": "0a8d8566-f7b7-435e-cd54-8d63ff71b64c"
      },
      "source": [
        "float(result)"
      ],
      "execution_count": null,
      "outputs": [
        {
          "output_type": "execute_result",
          "data": {
            "text/plain": [
              "0.3"
            ]
          },
          "metadata": {
            "tags": []
          },
          "execution_count": 111
        }
      ]
    },
    {
      "cell_type": "markdown",
      "metadata": {
        "id": "dA3r0LKz6QEI",
        "colab_type": "text"
      },
      "source": [
        "## Строки"
      ]
    },
    {
      "cell_type": "code",
      "metadata": {
        "id": "oLDZxENe6QEJ",
        "colab_type": "code",
        "colab": {}
      },
      "source": [
        "# Форматирование строк\n",
        "# Метод 1"
      ],
      "execution_count": null,
      "outputs": []
    },
    {
      "cell_type": "code",
      "metadata": {
        "id": "bOQhEZ126QEN",
        "colab_type": "code",
        "colab": {}
      },
      "source": [
        "result = 100"
      ],
      "execution_count": null,
      "outputs": []
    },
    {
      "cell_type": "code",
      "metadata": {
        "id": "Dhcsj7Du6QEQ",
        "colab_type": "code",
        "colab": {},
        "outputId": "0e35b341-9beb-4f7a-84c5-5e7b02214ea8"
      },
      "source": [
        "print(\"The result is {}\".format(result))"
      ],
      "execution_count": null,
      "outputs": [
        {
          "output_type": "stream",
          "text": [
            "The result is 100\n"
          ],
          "name": "stdout"
        }
      ]
    },
    {
      "cell_type": "code",
      "metadata": {
        "id": "9FOTCnqD6QEV",
        "colab_type": "code",
        "colab": {},
        "outputId": "de058f7b-f405-45d3-dace-809d5526b55d"
      },
      "source": [
        "print(\"The result is {r}\".format(r=result))"
      ],
      "execution_count": null,
      "outputs": [
        {
          "output_type": "stream",
          "text": [
            "The result is 100\n"
          ],
          "name": "stdout"
        }
      ]
    },
    {
      "cell_type": "code",
      "metadata": {
        "id": "caSo8JDr6QEb",
        "colab_type": "code",
        "colab": {}
      },
      "source": [
        "# Метод 2"
      ],
      "execution_count": null,
      "outputs": []
    },
    {
      "cell_type": "code",
      "metadata": {
        "id": "JMsCporH6QEe",
        "colab_type": "code",
        "colab": {},
        "outputId": "eed013dc-5b88-4eb8-8364-0a83acee7ef7"
      },
      "source": [
        "print(f'The value is {result}')"
      ],
      "execution_count": null,
      "outputs": [
        {
          "output_type": "stream",
          "text": [
            "The value is 100\n"
          ],
          "name": "stdout"
        }
      ]
    },
    {
      "cell_type": "code",
      "metadata": {
        "id": "wYPBc3Mn6QEi",
        "colab_type": "code",
        "colab": {}
      },
      "source": [
        "name = \"Anton\"\n",
        "age = 3"
      ],
      "execution_count": null,
      "outputs": []
    },
    {
      "cell_type": "code",
      "metadata": {
        "id": "eCdaGy3u6QEl",
        "colab_type": "code",
        "colab": {},
        "outputId": "08e3549a-baa5-48d9-dad4-f4cacab0e557"
      },
      "source": [
        "print(f'{name} is {age} years old')"
      ],
      "execution_count": null,
      "outputs": [
        {
          "output_type": "stream",
          "text": [
            "Anton is 3 years old\n"
          ],
          "name": "stdout"
        }
      ]
    },
    {
      "cell_type": "code",
      "metadata": {
        "id": "Cb8Tpf996QEp",
        "colab_type": "code",
        "colab": {}
      },
      "source": [
        "# Метод 3"
      ],
      "execution_count": null,
      "outputs": []
    },
    {
      "cell_type": "code",
      "metadata": {
        "id": "zReay4o96QEu",
        "colab_type": "code",
        "colab": {},
        "outputId": "50a90b4c-ae92-49fc-c76e-64dbf04c8d80"
      },
      "source": [
        "x, y = 'spam', 'eggs'\n",
        "print(\"%s, и %s - метапеременные в питоне\" %(x, y))"
      ],
      "execution_count": null,
      "outputs": [
        {
          "output_type": "stream",
          "text": [
            "spam, и eggs - метапеременные в питоне\n"
          ],
          "name": "stdout"
        }
      ]
    },
    {
      "cell_type": "markdown",
      "metadata": {
        "id": "V4Cxeibm6QEy",
        "colab_type": "text"
      },
      "source": [
        "### Динамическая типизация\n"
      ]
    },
    {
      "cell_type": "code",
      "metadata": {
        "id": "p_AsNf0P6QEy",
        "colab_type": "code",
        "colab": {}
      },
      "source": [
        "user = \"spam\""
      ],
      "execution_count": null,
      "outputs": []
    },
    {
      "cell_type": "code",
      "metadata": {
        "id": "kpvLt3hh6QE2",
        "colab_type": "code",
        "colab": {
          "base_uri": "https://localhost:8080/",
          "height": 34
        },
        "outputId": "0a9494ab-9124-4dbe-c604-89af27fdf8ac"
      },
      "source": [
        "type(user)"
      ],
      "execution_count": null,
      "outputs": [
        {
          "output_type": "execute_result",
          "data": {
            "text/plain": [
              "str"
            ]
          },
          "metadata": {
            "tags": []
          },
          "execution_count": 2
        }
      ]
    },
    {
      "cell_type": "code",
      "metadata": {
        "id": "dRaGPigC6QE6",
        "colab_type": "code",
        "colab": {
          "base_uri": "https://localhost:8080/",
          "height": 34
        },
        "outputId": "151deab8-9cd3-42b4-8b57-322a28ef8132"
      },
      "source": [
        "isinstance(user, str)"
      ],
      "execution_count": null,
      "outputs": [
        {
          "output_type": "execute_result",
          "data": {
            "text/plain": [
              "True"
            ]
          },
          "metadata": {
            "tags": []
          },
          "execution_count": 3
        }
      ]
    },
    {
      "cell_type": "code",
      "metadata": {
        "id": "Rjk4tldW6QE9",
        "colab_type": "code",
        "colab": {
          "base_uri": "https://localhost:8080/",
          "height": 34
        },
        "outputId": "33f33a04-fbab-4325-ecfb-f060de014275"
      },
      "source": [
        "type(user) is str"
      ],
      "execution_count": null,
      "outputs": [
        {
          "output_type": "execute_result",
          "data": {
            "text/plain": [
              "True"
            ]
          },
          "metadata": {
            "tags": []
          },
          "execution_count": 4
        }
      ]
    },
    {
      "cell_type": "code",
      "metadata": {
        "id": "IDg9AS9p6QFA",
        "colab_type": "code",
        "colab": {
          "base_uri": "https://localhost:8080/",
          "height": 34
        },
        "outputId": "7d2b12bc-4c40-4764-d416-a6e4e2c13d6b"
      },
      "source": [
        "type(user) is not int"
      ],
      "execution_count": null,
      "outputs": [
        {
          "output_type": "execute_result",
          "data": {
            "text/plain": [
              "True"
            ]
          },
          "metadata": {
            "tags": []
          },
          "execution_count": 5
        }
      ]
    },
    {
      "cell_type": "code",
      "metadata": {
        "id": "hxzqyOER6QFE",
        "colab_type": "code",
        "colab": {
          "base_uri": "https://localhost:8080/",
          "height": 34
        },
        "outputId": "c848d251-fec1-489d-a89c-ac8ab8ca2ccb"
      },
      "source": [
        "id(user)"
      ],
      "execution_count": null,
      "outputs": [
        {
          "output_type": "execute_result",
          "data": {
            "text/plain": [
              "140478022309120"
            ]
          },
          "metadata": {
            "tags": []
          },
          "execution_count": 6
        }
      ]
    },
    {
      "cell_type": "code",
      "metadata": {
        "id": "pV_rFLCM6QFH",
        "colab_type": "code",
        "colab": {}
      },
      "source": [
        "# Библиотека mypy для внесения статической типизации в python\n",
        "# https://mypy.readthedocs.io/en/stable/cheat_sheet_py3.html"
      ],
      "execution_count": null,
      "outputs": []
    },
    {
      "cell_type": "markdown",
      "metadata": {
        "id": "Sqhqc7h_6QFM",
        "colab_type": "text"
      },
      "source": [
        "### Cписки"
      ]
    },
    {
      "cell_type": "code",
      "metadata": {
        "id": "u5zTJeMm6QFN",
        "colab_type": "code",
        "colab": {}
      },
      "source": [
        "my_list = [1, 2, 3]"
      ],
      "execution_count": null,
      "outputs": []
    },
    {
      "cell_type": "code",
      "metadata": {
        "id": "w4yQ-QOF6QFR",
        "colab_type": "code",
        "colab": {}
      },
      "source": [
        "my_list = ['string', 2, 3, 4.20]"
      ],
      "execution_count": null,
      "outputs": []
    },
    {
      "cell_type": "code",
      "metadata": {
        "id": "9YlZy-Wc6QFU",
        "colab_type": "code",
        "colab": {},
        "outputId": "c91e58ec-0a4d-436c-fee6-80d145a7385d"
      },
      "source": [
        "len(my_list)"
      ],
      "execution_count": null,
      "outputs": [
        {
          "output_type": "execute_result",
          "data": {
            "text/plain": [
              "3"
            ]
          },
          "metadata": {
            "tags": []
          },
          "execution_count": 39
        }
      ]
    },
    {
      "cell_type": "code",
      "metadata": {
        "id": "5RaCzqmN6QFY",
        "colab_type": "code",
        "colab": {}
      },
      "source": [
        "mylist = [\"spam\", \"eggs\", 1, 2, 3]"
      ],
      "execution_count": null,
      "outputs": []
    },
    {
      "cell_type": "code",
      "metadata": {
        "id": "ounnglFX6QFb",
        "colab_type": "code",
        "colab": {},
        "outputId": "84888598-54e2-4301-b505-97e381c3b5fb"
      },
      "source": [
        "mylist[0]"
      ],
      "execution_count": null,
      "outputs": [
        {
          "output_type": "execute_result",
          "data": {
            "text/plain": [
              "'spam'"
            ]
          },
          "metadata": {
            "tags": []
          },
          "execution_count": 43
        }
      ]
    },
    {
      "cell_type": "code",
      "metadata": {
        "id": "zGmtkPHD6QFg",
        "colab_type": "code",
        "colab": {},
        "outputId": "b1a2301a-966f-49c8-9ec7-3e6913945687"
      },
      "source": [
        "mylist[2:]"
      ],
      "execution_count": null,
      "outputs": [
        {
          "output_type": "execute_result",
          "data": {
            "text/plain": [
              "[1, 2, 3]"
            ]
          },
          "metadata": {
            "tags": []
          },
          "execution_count": 44
        }
      ]
    },
    {
      "cell_type": "code",
      "metadata": {
        "id": "xz5zvBzN6QFj",
        "colab_type": "code",
        "colab": {}
      },
      "source": [
        "another_list = [77, 22]"
      ],
      "execution_count": null,
      "outputs": []
    },
    {
      "cell_type": "code",
      "metadata": {
        "id": "bGRgFHjn6QFn",
        "colab_type": "code",
        "colab": {}
      },
      "source": [
        "new_list = mylist + another_list"
      ],
      "execution_count": null,
      "outputs": []
    },
    {
      "cell_type": "code",
      "metadata": {
        "id": "OO8UkLOt6QFq",
        "colab_type": "code",
        "colab": {},
        "outputId": "5e04eaef-90e4-4b7b-9ff2-e538547deb5a"
      },
      "source": [
        "new_list"
      ],
      "execution_count": null,
      "outputs": [
        {
          "output_type": "execute_result",
          "data": {
            "text/plain": [
              "['spam', 'eggs', 1, 2, 3, 77, 22]"
            ]
          },
          "metadata": {
            "tags": []
          },
          "execution_count": 48
        }
      ]
    },
    {
      "cell_type": "code",
      "metadata": {
        "id": "g1opmTF26QFu",
        "colab_type": "code",
        "colab": {}
      },
      "source": [
        "new_list[0] = 'SPAM'"
      ],
      "execution_count": null,
      "outputs": []
    },
    {
      "cell_type": "code",
      "metadata": {
        "id": "CcOHmCXW6QFx",
        "colab_type": "code",
        "colab": {},
        "outputId": "772002ef-d873-4a59-e810-b013bd14af39"
      },
      "source": [
        "new_list"
      ],
      "execution_count": null,
      "outputs": [
        {
          "output_type": "execute_result",
          "data": {
            "text/plain": [
              "['SPAM', 'eggs', 1, 2, 3, 77, 22]"
            ]
          },
          "metadata": {
            "tags": []
          },
          "execution_count": 50
        }
      ]
    },
    {
      "cell_type": "code",
      "metadata": {
        "id": "vjfLVkjB6QF1",
        "colab_type": "code",
        "colab": {}
      },
      "source": [
        "new_list.append(25)"
      ],
      "execution_count": null,
      "outputs": []
    },
    {
      "cell_type": "code",
      "metadata": {
        "id": "WhId16KO6QF4",
        "colab_type": "code",
        "colab": {},
        "outputId": "1479beea-fb4c-4d59-d2aa-d097b1dc61d8"
      },
      "source": [
        "new_list"
      ],
      "execution_count": null,
      "outputs": [
        {
          "output_type": "execute_result",
          "data": {
            "text/plain": [
              "['SPAM', 'eggs', 1, 2, 3, 77, 22, 25]"
            ]
          },
          "metadata": {
            "tags": []
          },
          "execution_count": 52
        }
      ]
    },
    {
      "cell_type": "code",
      "metadata": {
        "id": "rO6fTDRB6QF8",
        "colab_type": "code",
        "colab": {},
        "outputId": "7eba1fce-4478-415f-bb91-0c5846d9aeab"
      },
      "source": [
        "new_list.pop()"
      ],
      "execution_count": null,
      "outputs": [
        {
          "output_type": "execute_result",
          "data": {
            "text/plain": [
              "25"
            ]
          },
          "metadata": {
            "tags": []
          },
          "execution_count": 53
        }
      ]
    },
    {
      "cell_type": "code",
      "metadata": {
        "id": "ef1EGZJb6QGA",
        "colab_type": "code",
        "colab": {},
        "outputId": "58b76170-7219-496d-cfe8-8e8f3af5a13d"
      },
      "source": [
        "new_list"
      ],
      "execution_count": null,
      "outputs": [
        {
          "output_type": "execute_result",
          "data": {
            "text/plain": [
              "['SPAM', 'eggs', 1, 2, 3, 77, 22]"
            ]
          },
          "metadata": {
            "tags": []
          },
          "execution_count": 54
        }
      ]
    },
    {
      "cell_type": "code",
      "metadata": {
        "id": "cPlCd1di6QGH",
        "colab_type": "code",
        "colab": {},
        "outputId": "7cd516ce-423b-46f0-823d-1f8881c8d5d1"
      },
      "source": [
        "new_list.pop(0)"
      ],
      "execution_count": null,
      "outputs": [
        {
          "output_type": "execute_result",
          "data": {
            "text/plain": [
              "'SPAM'"
            ]
          },
          "metadata": {
            "tags": []
          },
          "execution_count": 55
        }
      ]
    },
    {
      "cell_type": "code",
      "metadata": {
        "id": "cbqOqWT_6QGK",
        "colab_type": "code",
        "colab": {}
      },
      "source": [
        "new_list = ['a', 'x', 'z', 'y']\n",
        "num_list = [6, 3, 2, 1]"
      ],
      "execution_count": null,
      "outputs": []
    },
    {
      "cell_type": "code",
      "metadata": {
        "id": "ZF4c1aCZ6QGN",
        "colab_type": "code",
        "colab": {}
      },
      "source": [
        "new_list.sort()"
      ],
      "execution_count": null,
      "outputs": []
    },
    {
      "cell_type": "code",
      "metadata": {
        "id": "9-2ovMOi6QGS",
        "colab_type": "code",
        "colab": {},
        "outputId": "3d836610-bb36-419a-daed-1cf818495a41"
      },
      "source": [
        "new_list"
      ],
      "execution_count": null,
      "outputs": [
        {
          "output_type": "execute_result",
          "data": {
            "text/plain": [
              "['a', 'x', 'y', 'z']"
            ]
          },
          "metadata": {
            "tags": []
          },
          "execution_count": 65
        }
      ]
    },
    {
      "cell_type": "code",
      "metadata": {
        "id": "r7_PXdgt6QGV",
        "colab_type": "code",
        "colab": {}
      },
      "source": [
        "num_list.sort()"
      ],
      "execution_count": null,
      "outputs": []
    },
    {
      "cell_type": "code",
      "metadata": {
        "id": "gYx45h4t6QGa",
        "colab_type": "code",
        "colab": {},
        "outputId": "64ae7336-fe41-4583-afc9-93927e919678"
      },
      "source": [
        "num_list"
      ],
      "execution_count": null,
      "outputs": [
        {
          "output_type": "execute_result",
          "data": {
            "text/plain": [
              "[1, 2, 3, 6]"
            ]
          },
          "metadata": {
            "tags": []
          },
          "execution_count": 62
        }
      ]
    },
    {
      "cell_type": "code",
      "metadata": {
        "id": "QK11XNEs6QGd",
        "colab_type": "code",
        "colab": {}
      },
      "source": [
        "num_list.reverse()"
      ],
      "execution_count": null,
      "outputs": []
    },
    {
      "cell_type": "code",
      "metadata": {
        "id": "L-HV1ecq6QGi",
        "colab_type": "code",
        "colab": {},
        "outputId": "239ace6f-ba91-41de-d4d8-fe52765c825b"
      },
      "source": [
        "num_list"
      ],
      "execution_count": null,
      "outputs": [
        {
          "output_type": "execute_result",
          "data": {
            "text/plain": [
              "[6, 3, 2, 1]"
            ]
          },
          "metadata": {
            "tags": []
          },
          "execution_count": 73
        }
      ]
    },
    {
      "cell_type": "code",
      "metadata": {
        "id": "LIRjsgxU6QGl",
        "colab_type": "code",
        "colab": {},
        "outputId": "f7d2dddb-fd11-4a45-bc37-19e146717f35"
      },
      "source": [
        "num_list[::-1]"
      ],
      "execution_count": null,
      "outputs": [
        {
          "output_type": "execute_result",
          "data": {
            "text/plain": [
              "[1, 2, 3, 6]"
            ]
          },
          "metadata": {
            "tags": []
          },
          "execution_count": 74
        }
      ]
    },
    {
      "cell_type": "markdown",
      "metadata": {
        "id": "pQDQ9zbC6QGo",
        "colab_type": "text"
      },
      "source": [
        "## Словари"
      ]
    },
    {
      "cell_type": "code",
      "metadata": {
        "id": "x1uVtFZW6QGp",
        "colab_type": "code",
        "colab": {}
      },
      "source": [
        "my_dict = {}"
      ],
      "execution_count": null,
      "outputs": []
    },
    {
      "cell_type": "code",
      "metadata": {
        "id": "mkuYS8Ff6QGs",
        "colab_type": "code",
        "colab": {}
      },
      "source": [
        "mydict = dict()"
      ],
      "execution_count": null,
      "outputs": []
    },
    {
      "cell_type": "code",
      "metadata": {
        "id": "aU0n9fAf6QGy",
        "colab_type": "code",
        "colab": {}
      },
      "source": [
        "my_dict = {'key':'value'}"
      ],
      "execution_count": null,
      "outputs": []
    },
    {
      "cell_type": "code",
      "metadata": {
        "id": "kj-CWzIw6QG0",
        "colab_type": "code",
        "colab": {},
        "outputId": "f71f4d34-547e-4036-f23d-5d8b6d8aae45"
      },
      "source": [
        "my_dict['key']"
      ],
      "execution_count": null,
      "outputs": [
        {
          "output_type": "execute_result",
          "data": {
            "text/plain": [
              "'value'"
            ]
          },
          "metadata": {
            "tags": []
          },
          "execution_count": 78
        }
      ]
    },
    {
      "cell_type": "code",
      "metadata": {
        "id": "4W_2Gal16QG3",
        "colab_type": "code",
        "colab": {}
      },
      "source": [
        "price = {'Apple': 2.22, 'Orange': 3.11}"
      ],
      "execution_count": null,
      "outputs": []
    },
    {
      "cell_type": "code",
      "metadata": {
        "id": "cGRERh466QG6",
        "colab_type": "code",
        "colab": {}
      },
      "source": [
        "# В качестве значения ключ может содержать любой тип данных\n",
        "# В качестве ключа - число или строка"
      ],
      "execution_count": null,
      "outputs": []
    },
    {
      "cell_type": "code",
      "metadata": {
        "id": "K6_DGlXP6QG-",
        "colab_type": "code",
        "colab": {}
      },
      "source": [
        "my_dict = {'key': [1,2,3]}"
      ],
      "execution_count": null,
      "outputs": []
    },
    {
      "cell_type": "code",
      "metadata": {
        "id": "tnsb_xPX6QHB",
        "colab_type": "code",
        "colab": {}
      },
      "source": [
        "key_val = my_dict['key']"
      ],
      "execution_count": null,
      "outputs": []
    },
    {
      "cell_type": "code",
      "metadata": {
        "id": "-Rf8wuI66QHF",
        "colab_type": "code",
        "colab": {},
        "outputId": "728e3230-38f1-4be6-98d5-ec6a0da67782"
      },
      "source": [
        "key_val[0]"
      ],
      "execution_count": null,
      "outputs": [
        {
          "output_type": "execute_result",
          "data": {
            "text/plain": [
              "1"
            ]
          },
          "metadata": {
            "tags": []
          },
          "execution_count": 85
        }
      ]
    },
    {
      "cell_type": "code",
      "metadata": {
        "id": "417Z2fim6QHI",
        "colab_type": "code",
        "colab": {},
        "outputId": "550a1e38-49c0-4e86-fc89-9fecad0c51bd"
      },
      "source": [
        "my_dict.keys()"
      ],
      "execution_count": null,
      "outputs": [
        {
          "output_type": "execute_result",
          "data": {
            "text/plain": [
              "dict_keys(['key'])"
            ]
          },
          "metadata": {
            "tags": []
          },
          "execution_count": 87
        }
      ]
    },
    {
      "cell_type": "code",
      "metadata": {
        "id": "Ne3PElQf6QHM",
        "colab_type": "code",
        "colab": {},
        "outputId": "c9871df6-f099-426f-fc8b-f0bdd9f712d5"
      },
      "source": [
        "my_dict.values()"
      ],
      "execution_count": null,
      "outputs": [
        {
          "output_type": "execute_result",
          "data": {
            "text/plain": [
              "dict_values([[1, 2, 3]])"
            ]
          },
          "metadata": {
            "tags": []
          },
          "execution_count": 90
        }
      ]
    },
    {
      "cell_type": "code",
      "metadata": {
        "id": "pQHSWLqM6QHP",
        "colab_type": "code",
        "colab": {},
        "outputId": "699d3025-02b3-4942-a982-d38367fbebe6"
      },
      "source": [
        "my_dict.items()"
      ],
      "execution_count": null,
      "outputs": [
        {
          "output_type": "execute_result",
          "data": {
            "text/plain": [
              "dict_items([('key', [1, 2, 3])])"
            ]
          },
          "metadata": {
            "tags": []
          },
          "execution_count": 91
        }
      ]
    },
    {
      "cell_type": "markdown",
      "metadata": {
        "id": "c2nseDxg6QHS",
        "colab_type": "text"
      },
      "source": [
        "## Кортежи (Tuples)"
      ]
    },
    {
      "cell_type": "code",
      "metadata": {
        "id": "2MeFTYld6QHS",
        "colab_type": "code",
        "colab": {}
      },
      "source": [
        "my_tuple = (1, 2, 3)"
      ],
      "execution_count": null,
      "outputs": []
    },
    {
      "cell_type": "code",
      "metadata": {
        "id": "W3AA_F9A6QHV",
        "colab_type": "code",
        "colab": {},
        "outputId": "1bb45fbf-3e7a-434a-9064-6e8454116141"
      },
      "source": [
        "my_tuple"
      ],
      "execution_count": null,
      "outputs": [
        {
          "output_type": "execute_result",
          "data": {
            "text/plain": [
              "(1, 2, 3)"
            ]
          },
          "metadata": {
            "tags": []
          },
          "execution_count": 123
        }
      ]
    },
    {
      "cell_type": "code",
      "metadata": {
        "id": "SyFgRcZo6QHX",
        "colab_type": "code",
        "colab": {}
      },
      "source": [
        "my_list = [1, 2, 3]"
      ],
      "execution_count": null,
      "outputs": []
    },
    {
      "cell_type": "code",
      "metadata": {
        "id": "h6z_BhAP6QHb",
        "colab_type": "code",
        "colab": {},
        "outputId": "004237fb-0264-4a94-bca1-7f011b742e1b"
      },
      "source": [
        "type(my_tuple)"
      ],
      "execution_count": null,
      "outputs": [
        {
          "output_type": "execute_result",
          "data": {
            "text/plain": [
              "tuple"
            ]
          },
          "metadata": {
            "tags": []
          },
          "execution_count": 125
        }
      ]
    },
    {
      "cell_type": "code",
      "metadata": {
        "id": "Z_AF5EME6QHe",
        "colab_type": "code",
        "colab": {},
        "outputId": "dfe575d6-bbc7-4d0f-9d97-c752fa2e5c7f"
      },
      "source": [
        "my_tuple + my_tuple"
      ],
      "execution_count": null,
      "outputs": [
        {
          "output_type": "execute_result",
          "data": {
            "text/plain": [
              "(1, 2, 3, 1, 2, 3)"
            ]
          },
          "metadata": {
            "tags": []
          },
          "execution_count": 144
        }
      ]
    },
    {
      "cell_type": "markdown",
      "metadata": {
        "id": "1RC2iNPR6QHg",
        "colab_type": "text"
      },
      "source": [
        "## Множества"
      ]
    },
    {
      "cell_type": "code",
      "metadata": {
        "id": "qWz3AcCs6QHh",
        "colab_type": "code",
        "colab": {}
      },
      "source": [
        "new_set = {1,2,3, \"hello\"}"
      ],
      "execution_count": null,
      "outputs": []
    },
    {
      "cell_type": "code",
      "metadata": {
        "id": "joRzafEa6QHj",
        "colab_type": "code",
        "colab": {}
      },
      "source": [
        "hi.clear()"
      ],
      "execution_count": null,
      "outputs": []
    },
    {
      "cell_type": "code",
      "metadata": {
        "id": "9jdB5MF36QHl",
        "colab_type": "code",
        "colab": {},
        "outputId": "6aca8637-be55-41fa-9092-d35cb8150e00"
      },
      "source": [
        "hi"
      ],
      "execution_count": null,
      "outputs": [
        {
          "output_type": "execute_result",
          "data": {
            "text/plain": [
              "set()"
            ]
          },
          "metadata": {
            "tags": []
          },
          "execution_count": 136
        }
      ]
    },
    {
      "cell_type": "code",
      "metadata": {
        "id": "W12a-hkD6QHq",
        "colab_type": "code",
        "colab": {}
      },
      "source": [
        "my_list = [1,2,3,4,5,6,7,8,1,2,3,4,5,6,7]"
      ],
      "execution_count": null,
      "outputs": []
    },
    {
      "cell_type": "code",
      "metadata": {
        "id": "hX-J7XH46QHt",
        "colab_type": "code",
        "colab": {}
      },
      "source": [
        "super_new_set = set(my_list)"
      ],
      "execution_count": null,
      "outputs": []
    },
    {
      "cell_type": "code",
      "metadata": {
        "id": "hz9gSphV6QHw",
        "colab_type": "code",
        "colab": {},
        "outputId": "9e29ffab-9a10-44ff-dfbf-ffe598c1e249"
      },
      "source": [
        "super_new_set"
      ],
      "execution_count": null,
      "outputs": [
        {
          "output_type": "execute_result",
          "data": {
            "text/plain": [
              "{1, 2, 3, 4, 5, 6, 7, 8}"
            ]
          },
          "metadata": {
            "tags": []
          },
          "execution_count": 142
        }
      ]
    },
    {
      "cell_type": "code",
      "metadata": {
        "id": "Zs_rUQU96QHz",
        "colab_type": "code",
        "colab": {}
      },
      "source": [
        "one_set = {1,2,11,12}"
      ],
      "execution_count": null,
      "outputs": []
    },
    {
      "cell_type": "code",
      "metadata": {
        "id": "IXaN8TYl6QH2",
        "colab_type": "code",
        "colab": {},
        "outputId": "acb128dc-5b57-4f2f-c8c9-6d312a461350"
      },
      "source": [
        "super_new_set & one_set"
      ],
      "execution_count": null,
      "outputs": [
        {
          "output_type": "execute_result",
          "data": {
            "text/plain": [
              "{1, 2}"
            ]
          },
          "metadata": {
            "tags": []
          },
          "execution_count": 147
        }
      ]
    },
    {
      "cell_type": "code",
      "metadata": {
        "id": "-Gutm0xd6QH5",
        "colab_type": "code",
        "colab": {},
        "outputId": "0e3bcbfd-d6f9-48dc-e4da-970d72d93b79"
      },
      "source": [
        "super_new_set | one_set"
      ],
      "execution_count": null,
      "outputs": [
        {
          "output_type": "execute_result",
          "data": {
            "text/plain": [
              "{1, 2, 3, 4, 5, 6, 7, 8, 11, 12}"
            ]
          },
          "metadata": {
            "tags": []
          },
          "execution_count": 148
        }
      ]
    },
    {
      "cell_type": "code",
      "metadata": {
        "id": "kEcBTXSK6QH-",
        "colab_type": "code",
        "colab": {},
        "outputId": "3daf2a2f-eb5b-44ab-d350-78e1bb5585da"
      },
      "source": [
        "one_set - super_new_set"
      ],
      "execution_count": null,
      "outputs": [
        {
          "output_type": "execute_result",
          "data": {
            "text/plain": [
              "{11, 12}"
            ]
          },
          "metadata": {
            "tags": []
          },
          "execution_count": 149
        }
      ]
    },
    {
      "cell_type": "code",
      "metadata": {
        "id": "bRXSsc8_6QIB",
        "colab_type": "code",
        "colab": {},
        "outputId": "4a831689-7a88-449c-9410-066aacac65f7"
      },
      "source": [
        "super_new_set - one_set"
      ],
      "execution_count": null,
      "outputs": [
        {
          "output_type": "execute_result",
          "data": {
            "text/plain": [
              "{3, 4, 5, 6, 7, 8}"
            ]
          },
          "metadata": {
            "tags": []
          },
          "execution_count": 150
        }
      ]
    },
    {
      "cell_type": "code",
      "metadata": {
        "id": "CEM6zy1V6QIE",
        "colab_type": "code",
        "colab": {}
      },
      "source": [
        "super_new_set.update(one_set)"
      ],
      "execution_count": null,
      "outputs": []
    },
    {
      "cell_type": "code",
      "metadata": {
        "id": "y6mpql8I6QIG",
        "colab_type": "code",
        "colab": {},
        "outputId": "6808019f-4369-4a74-a449-c30006f37996"
      },
      "source": [
        "super_new_set"
      ],
      "execution_count": null,
      "outputs": [
        {
          "output_type": "execute_result",
          "data": {
            "text/plain": [
              "{1, 2, 3, 4, 5, 6, 7, 8, 11, 12}"
            ]
          },
          "metadata": {
            "tags": []
          },
          "execution_count": 154
        }
      ]
    },
    {
      "cell_type": "markdown",
      "metadata": {
        "id": "pv5FaN836QII",
        "colab_type": "text"
      },
      "source": [
        "## Условия (If Else)"
      ]
    },
    {
      "cell_type": "code",
      "metadata": {
        "id": "7GhHbzRd6QIJ",
        "colab_type": "code",
        "colab": {},
        "outputId": "0993cc27-89f0-4245-e8ce-068c6e38c3f0"
      },
      "source": [
        "if False:\n",
        "    print('True')\n",
        "else:\n",
        "    print('False')"
      ],
      "execution_count": null,
      "outputs": [
        {
          "output_type": "stream",
          "text": [
            "False\n"
          ],
          "name": "stdout"
        }
      ]
    },
    {
      "cell_type": "code",
      "metadata": {
        "id": "SV3YJjdf6QIL",
        "colab_type": "code",
        "colab": {},
        "outputId": "a3cff08e-8091-4e09-ae7f-e34a85abcc66"
      },
      "source": [
        "isinstance(True, bool)"
      ],
      "execution_count": null,
      "outputs": [
        {
          "output_type": "execute_result",
          "data": {
            "text/plain": [
              "True"
            ]
          },
          "metadata": {
            "tags": []
          },
          "execution_count": 158
        }
      ]
    },
    {
      "cell_type": "code",
      "metadata": {
        "id": "Dn-4_8z06QIN",
        "colab_type": "code",
        "colab": {}
      },
      "source": [
        ""
      ],
      "execution_count": null,
      "outputs": []
    }
  ]
}